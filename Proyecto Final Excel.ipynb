{
 "cells": [
  {
   "cell_type": "markdown",
   "metadata": {},
   "source": [
    "## Alumna:Ximena Soraya Mancilla Ruiz##\n",
    "## GitHub:XimenaSoraya o ximena.mancilla@encit.unam.mx##"
   ]
  },
  {
   "cell_type": "markdown",
   "metadata": {},
   "source": [
    "# Proyecto Final \" Calcular Húmedad Relativa en el Vallle de México lapso 2010-2020\"#"
   ]
  },
  {
   "cell_type": "code",
   "execution_count": 27,
   "metadata": {},
   "outputs": [],
   "source": [
    "from openpyxl import Workbook #Importación de paquetería"
   ]
  },
  {
   "cell_type": "code",
   "execution_count": 28,
   "metadata": {},
   "outputs": [],
   "source": [
    "from openpyxl import load_workbook #Importación de paquetería"
   ]
  },
  {
   "cell_type": "code",
   "execution_count": 29,
   "metadata": {},
   "outputs": [],
   "source": [
    "import statistics as stats #Importación de paquetería"
   ]
  },
  {
   "cell_type": "code",
   "execution_count": 30,
   "metadata": {},
   "outputs": [],
   "source": [
    "import numpy as np #Importación de paquetería"
   ]
  },
  {
   "cell_type": "code",
   "execution_count": 31,
   "metadata": {},
   "outputs": [],
   "source": [
    "import matplotlib.pyplot as plt #Importación de paquetería"
   ]
  },
  {
   "cell_type": "code",
   "execution_count": 34,
   "metadata": {},
   "outputs": [
    {
     "ename": "SyntaxError",
     "evalue": "EOL while scanning string literal (<ipython-input-34-647b4ac4b47f>, line 12)",
     "output_type": "error",
     "traceback": [
      "\u001b[1;36m  File \u001b[1;32m\"<ipython-input-34-647b4ac4b47f>\"\u001b[1;36m, line \u001b[1;32m12\u001b[0m\n\u001b[1;33m    cell = worbook['A3':'A28]\u001b[0m\n\u001b[1;37m                             ^\u001b[0m\n\u001b[1;31mSyntaxError\u001b[0m\u001b[1;31m:\u001b[0m EOL while scanning string literal\n"
     ]
    }
   ],
   "source": [
    "def workbook(x):\n",
    "    \"\"\"Esta función recibe una fecha del rango de 2010-2020, cogerá 24 datos de la hoja excel y obtendrá su promedio; con un ciclo for determinara si es saturada, no saturada o limpia \"\"\"\n",
    "    fech = int(imput('Ingrese la fecha deseada:'))\n",
    "    workbook = load_workbook(filesnames='10-20HR/2010HR.xlsx,10-20HR/2011HR.xlsx,10-20HR/2012HR.xlsx,10-20HR/2013HR.xlsx,10-20HR/2014HR.xlsx,10-20HR/2015HR.xlsx,10-20HR/2016HR.xlsx,10-20HR/2017HR.xlsx,10-20HR/2018HR.xlsx,10-20HR/2019HR.xlsx,10-20HR/2020HR.xlsx')\n",
    "\n",
    "archive = open('10-20HR/2010HR.xlsx,10-20HR/2011HR.xlsx,10-20HR/2012HR.xlsx,10-20HR/2013HR.xlsx,10-20HR/2014HR.xlsx,10-20HR/2015HR.xlsx,10-20HR/2016HR.xlsx,10-20HR/2017HR.xlsx,10-20HR/2018HR.xlsx,10-20HR/2019HR.xlsx,10-20HR/2020HR.xlsx','a+')\n",
    "\n",
    "i = 0\n",
    "\n",
    "aux = 1\n",
    "\n",
    "cell = worbook['A3':'A28]\n",
    "print(stats.mean(cell))                     \n",
    "                     \n",
    "print(workbook.active)\n",
    "print(workbook.sheetnames)\n",
    "print(workbook.worksheets)\n",
    "               \n",
    " #Dar 24hrs\n",
    " #Graficarlo\n",
    "if x >100:\n",
    "    print(x,'Aire limpio')\n",
    "elif <100:\n",
    "    print(x,'No saturada')\n",
    "else == 100:\n",
    "    print(x,'Saturada')\n",
    "return\n",
    "    workbook.save('10-20HR/2010HR.xlsx,10-20HR/2011HR.xlsx,10-20HR/2012HR.xlsx,10-20HR/2013HR.xlsx,10-20HR/2014HR.xlsx,10-20HR/2015HR.xlsx,10-20HR/2016HR.xlsx,10-20HR/2017HR.xlsx,10-20HR/2018HR.xlsx,10-20HR/2019HR.xlsx,10-20HR/2020HR.xlsx')\n",
    "archive.close()"
   ]
  },
  {
   "cell_type": "code",
   "execution_count": 20,
   "metadata": {},
   "outputs": [
    {
     "name": "stdout",
     "output_type": "stream",
     "text": [
      "31\n"
     ]
    }
   ],
   "source": [
    "plt.plot(x)\n",
    "plt.grid()"
   ]
  },
  {
   "cell_type": "code",
   "execution_count": 33,
   "metadata": {},
   "outputs": [
    {
     "ename": "NameError",
     "evalue": "name 'imput' is not defined",
     "output_type": "error",
     "traceback": [
      "\u001b[1;31m---------------------------------------------------------------------------\u001b[0m",
      "\u001b[1;31mNameError\u001b[0m                                 Traceback (most recent call last)",
      "\u001b[1;32m<ipython-input-33-ea8f3c8190d7>\u001b[0m in \u001b[0;36m<module>\u001b[1;34m\u001b[0m\n\u001b[1;32m----> 1\u001b[1;33m \u001b[0mworkbook\u001b[0m\u001b[1;33m(\u001b[0m\u001b[1;33m)\u001b[0m\u001b[1;33m\u001b[0m\u001b[1;33m\u001b[0m\u001b[0m\n\u001b[0m",
      "\u001b[1;32m<ipython-input-16-81f5fedb7c73>\u001b[0m in \u001b[0;36mworkbook\u001b[1;34m()\u001b[0m\n\u001b[0;32m      1\u001b[0m \u001b[1;32mdef\u001b[0m \u001b[0mworkbook\u001b[0m\u001b[1;33m(\u001b[0m\u001b[1;33m)\u001b[0m\u001b[1;33m:\u001b[0m\u001b[1;33m\u001b[0m\u001b[1;33m\u001b[0m\u001b[0m\n\u001b[0;32m      2\u001b[0m     \u001b[1;34m\"\"\"Esta función recibe una fecha del rango de 2010-2020, cogerá 24 datos de la hoja excel y obtendrá su promedio; con un ciclo for determinara si es saturada, no saturada o limpia \"\"\"\u001b[0m\u001b[1;33m\u001b[0m\u001b[1;33m\u001b[0m\u001b[0m\n\u001b[1;32m----> 3\u001b[1;33m     \u001b[0mfech\u001b[0m \u001b[1;33m=\u001b[0m \u001b[0mint\u001b[0m\u001b[1;33m(\u001b[0m\u001b[0mimput\u001b[0m\u001b[1;33m(\u001b[0m\u001b[1;34m'Empezando a leer documentos excel'\u001b[0m\u001b[1;33m)\u001b[0m\u001b[1;33m)\u001b[0m\u001b[1;33m\u001b[0m\u001b[1;33m\u001b[0m\u001b[0m\n\u001b[0m\u001b[0;32m      4\u001b[0m     \u001b[0mworkbook\u001b[0m \u001b[1;33m=\u001b[0m \u001b[0mload_workbook\u001b[0m\u001b[1;33m(\u001b[0m\u001b[0mfilesnames\u001b[0m\u001b[1;33m=\u001b[0m\u001b[1;34m'10-20HR/2010HR.xlsx,10-20HR/2011HR.xlsx,10-20HR/2012HR.xlsx,10-20HR/2013HR.xlsx,10-20HR/2014HR.xlsx,10-20HR/2015HR.xlsx,10-20HR/2016HR.xlsx,10-20HR/2017HR.xlsx,10-20HR/2018HR.xlsx,10-20HR/2019HR.xlsx,10-20HR/2020HR.xlsx'\u001b[0m\u001b[1;33m)\u001b[0m\u001b[1;33m\u001b[0m\u001b[1;33m\u001b[0m\u001b[0m\n\u001b[0;32m      5\u001b[0m \u001b[1;33m\u001b[0m\u001b[0m\n",
      "\u001b[1;31mNameError\u001b[0m: name 'imput' is not defined"
     ]
    }
   ],
   "source": [
    " workbook()"
   ]
  },
  {
   "cell_type": "markdown",
   "metadata": {},
   "source": [
    "***Tú puedes!***"
   ]
  }
 ],
 "metadata": {
  "kernelspec": {
   "display_name": "Python 3",
   "language": "python",
   "name": "python3"
  },
  "language_info": {
   "codemirror_mode": {
    "name": "ipython",
    "version": 3
   },
   "file_extension": ".py",
   "mimetype": "text/x-python",
   "name": "python",
   "nbconvert_exporter": "python",
   "pygments_lexer": "ipython3",
   "version": "3.8.3"
  }
 },
 "nbformat": 4,
 "nbformat_minor": 4
}
